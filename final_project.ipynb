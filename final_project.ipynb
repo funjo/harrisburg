{
 "cells": [
  {
   "cell_type": "code",
   "execution_count": 3,
   "metadata": {
    "collapsed": false
   },
   "outputs": [],
   "source": [
    "import pandas as pd\n",
    "import requests\n",
    "import numpy as np\n",
    "from sklearn.preprocessing import Imputer, scale\n",
    "from sklearn import decomposition\n",
    "import matplotlib.pyplot as plt\n",
    "from sklearn import tree\n",
    "import operator\n",
    "%matplotlib inline "
   ]
  },
  {
   "cell_type": "markdown",
   "metadata": {},
   "source": [
    "# 1.Load in data"
   ]
  },
  {
   "cell_type": "code",
   "execution_count": 4,
   "metadata": {
    "collapsed": false
   },
   "outputs": [
    {
     "data": {
      "text/html": [
       "<div>\n",
       "<table border=\"1\" class=\"dataframe\">\n",
       "  <thead>\n",
       "    <tr style=\"text-align: right;\">\n",
       "      <th></th>\n",
       "      <th>communityname</th>\n",
       "      <th>State</th>\n",
       "      <th>countyCode</th>\n",
       "      <th>communityCode</th>\n",
       "      <th>fold</th>\n",
       "      <th>pop</th>\n",
       "      <th>perHoush</th>\n",
       "      <th>pctBlack</th>\n",
       "      <th>pctWhite</th>\n",
       "      <th>pctAsian</th>\n",
       "      <th>...</th>\n",
       "      <th>burglaries</th>\n",
       "      <th>burglPerPop</th>\n",
       "      <th>larcenies</th>\n",
       "      <th>larcPerPop</th>\n",
       "      <th>autoTheft</th>\n",
       "      <th>autoTheftPerPop</th>\n",
       "      <th>arsons</th>\n",
       "      <th>arsonsPerPop</th>\n",
       "      <th>violentPerPop</th>\n",
       "      <th>nonViolPerPop</th>\n",
       "    </tr>\n",
       "  </thead>\n",
       "  <tbody>\n",
       "    <tr>\n",
       "      <th>0</th>\n",
       "      <td>BerkeleyHeightstownship</td>\n",
       "      <td>NJ</td>\n",
       "      <td>39</td>\n",
       "      <td>5320</td>\n",
       "      <td>1</td>\n",
       "      <td>11980</td>\n",
       "      <td>3.10</td>\n",
       "      <td>1.37</td>\n",
       "      <td>91.78</td>\n",
       "      <td>6.50</td>\n",
       "      <td>...</td>\n",
       "      <td>14</td>\n",
       "      <td>114.85</td>\n",
       "      <td>138</td>\n",
       "      <td>1132.08</td>\n",
       "      <td>16</td>\n",
       "      <td>131.26</td>\n",
       "      <td>2</td>\n",
       "      <td>16.41</td>\n",
       "      <td>41.02</td>\n",
       "      <td>1394.59</td>\n",
       "    </tr>\n",
       "    <tr>\n",
       "      <th>1</th>\n",
       "      <td>Marpletownship</td>\n",
       "      <td>PA</td>\n",
       "      <td>45</td>\n",
       "      <td>47616</td>\n",
       "      <td>1</td>\n",
       "      <td>23123</td>\n",
       "      <td>2.82</td>\n",
       "      <td>0.80</td>\n",
       "      <td>95.57</td>\n",
       "      <td>3.44</td>\n",
       "      <td>...</td>\n",
       "      <td>57</td>\n",
       "      <td>242.37</td>\n",
       "      <td>376</td>\n",
       "      <td>1598.78</td>\n",
       "      <td>26</td>\n",
       "      <td>110.55</td>\n",
       "      <td>1</td>\n",
       "      <td>4.25</td>\n",
       "      <td>127.56</td>\n",
       "      <td>1955.95</td>\n",
       "    </tr>\n",
       "    <tr>\n",
       "      <th>2</th>\n",
       "      <td>Tigardcity</td>\n",
       "      <td>OR</td>\n",
       "      <td>?</td>\n",
       "      <td>?</td>\n",
       "      <td>1</td>\n",
       "      <td>29344</td>\n",
       "      <td>2.43</td>\n",
       "      <td>0.74</td>\n",
       "      <td>94.33</td>\n",
       "      <td>3.43</td>\n",
       "      <td>...</td>\n",
       "      <td>274</td>\n",
       "      <td>758.14</td>\n",
       "      <td>1797</td>\n",
       "      <td>4972.19</td>\n",
       "      <td>136</td>\n",
       "      <td>376.3</td>\n",
       "      <td>22</td>\n",
       "      <td>60.87</td>\n",
       "      <td>218.59</td>\n",
       "      <td>6167.51</td>\n",
       "    </tr>\n",
       "    <tr>\n",
       "      <th>3</th>\n",
       "      <td>Gloversvillecity</td>\n",
       "      <td>NY</td>\n",
       "      <td>35</td>\n",
       "      <td>29443</td>\n",
       "      <td>1</td>\n",
       "      <td>16656</td>\n",
       "      <td>2.40</td>\n",
       "      <td>1.70</td>\n",
       "      <td>97.35</td>\n",
       "      <td>0.50</td>\n",
       "      <td>...</td>\n",
       "      <td>225</td>\n",
       "      <td>1301.78</td>\n",
       "      <td>716</td>\n",
       "      <td>4142.56</td>\n",
       "      <td>47</td>\n",
       "      <td>271.93</td>\n",
       "      <td>?</td>\n",
       "      <td>?</td>\n",
       "      <td>306.64</td>\n",
       "      <td>?</td>\n",
       "    </tr>\n",
       "    <tr>\n",
       "      <th>4</th>\n",
       "      <td>Bemidjicity</td>\n",
       "      <td>MN</td>\n",
       "      <td>7</td>\n",
       "      <td>5068</td>\n",
       "      <td>1</td>\n",
       "      <td>11245</td>\n",
       "      <td>2.76</td>\n",
       "      <td>0.53</td>\n",
       "      <td>89.16</td>\n",
       "      <td>1.17</td>\n",
       "      <td>...</td>\n",
       "      <td>91</td>\n",
       "      <td>728.93</td>\n",
       "      <td>1060</td>\n",
       "      <td>8490.87</td>\n",
       "      <td>91</td>\n",
       "      <td>728.93</td>\n",
       "      <td>5</td>\n",
       "      <td>40.05</td>\n",
       "      <td>?</td>\n",
       "      <td>9988.79</td>\n",
       "    </tr>\n",
       "  </tbody>\n",
       "</table>\n",
       "<p>5 rows × 147 columns</p>\n",
       "</div>"
      ],
      "text/plain": [
       "             communityname State countyCode communityCode  fold    pop  \\\n",
       "0  BerkeleyHeightstownship    NJ         39          5320     1  11980   \n",
       "1           Marpletownship    PA         45         47616     1  23123   \n",
       "2               Tigardcity    OR          ?             ?     1  29344   \n",
       "3         Gloversvillecity    NY         35         29443     1  16656   \n",
       "4              Bemidjicity    MN          7          5068     1  11245   \n",
       "\n",
       "   perHoush  pctBlack  pctWhite  pctAsian      ...        burglaries  \\\n",
       "0      3.10      1.37     91.78      6.50      ...                14   \n",
       "1      2.82      0.80     95.57      3.44      ...                57   \n",
       "2      2.43      0.74     94.33      3.43      ...               274   \n",
       "3      2.40      1.70     97.35      0.50      ...               225   \n",
       "4      2.76      0.53     89.16      1.17      ...                91   \n",
       "\n",
       "   burglPerPop  larcenies  larcPerPop  autoTheft  autoTheftPerPop  arsons  \\\n",
       "0       114.85        138     1132.08         16           131.26       2   \n",
       "1       242.37        376     1598.78         26           110.55       1   \n",
       "2       758.14       1797     4972.19        136            376.3      22   \n",
       "3      1301.78        716     4142.56         47           271.93       ?   \n",
       "4       728.93       1060     8490.87         91           728.93       5   \n",
       "\n",
       "   arsonsPerPop  violentPerPop  nonViolPerPop  \n",
       "0         16.41          41.02        1394.59  \n",
       "1          4.25         127.56        1955.95  \n",
       "2         60.87         218.59        6167.51  \n",
       "3             ?         306.64              ?  \n",
       "4         40.05              ?        9988.79  \n",
       "\n",
       "[5 rows x 147 columns]"
      ]
     },
     "execution_count": 4,
     "metadata": {},
     "output_type": "execute_result"
    }
   ],
   "source": [
    "df = pd.read_csv('crime.csv', names=['communityname', 'State', 'countyCode', 'communityCode', 'fold',\\\n",
    "                                     'pop', 'perHoush', 'pctBlack', 'pctWhite', 'pctAsian', 'pctHisp',\\\n",
    "                                     'pct12', 'pct12', 'pct16', 'pct65up', 'persUrban', 'pctUrban',\\\n",
    "                                     'medIncome', 'pctWwage', 'pctWfarm', 'pctWdiv', 'pctWsocsec',\\\n",
    "                                     'pctPubAsst', 'pctRetire', 'medFamIncome', 'perCapInc', 'whitePerCap',\\\n",
    "                                     'blackPerCap', 'NAperCap', 'asianPerCap', 'otherPerCap', 'hispPerCap',\\\n",
    "                                     'persPoverty', 'pctPoverty', 'pctLowEdu', 'pctNotHSgrad', 'pctCollGrad',\\\n",
    "                                     'pctUnemploy', 'pctEmploy', 'pctEmployMfg', 'pctEmployProfServ',\\\n",
    "                                     'pctOccupManu', 'pctOccupMgmt', 'pctMaleDivorc', 'pctMaleNevMar',\\\n",
    "                                     'pctFemDivorc', 'pctAllDivorc', 'persPerFam', 'pct2Par', 'pctKids2Par',\\\n",
    "                                     'pctKids', 'pct12', 'pctWorkMom', 'pctWorkMom', 'kidsBornNevrMarr',\\\n",
    "                                     'pctKidsBornNevrMarr', 'numForeignBorn', 'pctFgnImmig', 'pctFgnImmig',\\\n",
    "                                     'pctFgnImmig', 'pctFgnImmig', 'pctImmig', 'pctImmig', 'pctImmig',\\\n",
    "                                     'pctImmig', 'pctSpeakOnlyEng', 'pctNotSpeakEng', 'pctLargHousFam',\\\n",
    "                                     'pctLargHous', 'persPerOccupHous', 'persPerOwnOccup', 'persPerRenterOccup',\\\n",
    "                                     'pctPersOwnOccup', 'pctPopDenseHous', 'pctSmallHousUnits', 'medNumBedrm',\\\n",
    "                                     'houseVacant', 'pctHousOccup', 'pctHousOwnerOccup', 'pctVacantBoarded',\\\n",
    "                                     'pctVacant6up', 'medYrHousBuilt', 'pctHousWOphone', 'pctHousWOplumb',\\\n",
    "                                     'ownHousLowQ', 'ownHousMed', 'ownHousUperQ', 'ownHousQrange', 'rentLowQ',\\\n",
    "                                     'rentMed', 'rentUpperQ', 'rentQrange', 'medGrossRent', 'medRentpctHousInc',\\\n",
    "                                     'medOwnCostpct', 'medOwnCostPctWO', 'persEmergShelt', 'persHomeless',\\\n",
    "                                     'pctForeignBorn', 'pctBornStateResid', 'pctSameHouse', 'pctSameCounty',\\\n",
    "                                     'pctSameState', 'numPolice', 'policePerPop', 'policeField',\\\n",
    "                                     'policeFieldPerPop', 'policeCalls', 'policCallPerPop', 'policCallPerOffic',\\\n",
    "                                     'policePerPop2', 'racialMatch', 'pctPolicWhite', 'pctPolicBlack',\\\n",
    "                                     'pctPolicHisp', 'pctPolicAsian', 'pctPolicMinority', 'officDrugUnits',\\\n",
    "                                     'numDiffDrugsSeiz', 'policAveOT', 'landArea', 'popDensity', 'pctUsePubTrans',\\\n",
    "                                     'policCarsAvail', 'policOperBudget', 'pctPolicPatrol', 'gangUnit',\\\n",
    "                                     'pctOfficDrugUnit', 'policBudgetPerPop', 'murders', 'murdPerPop', 'rapes',\\\n",
    "                                     'rapesPerPop', 'robberies', 'robbbPerPop', 'assaults', 'assaultPerPop',\\\n",
    "                                     'burglaries', 'burglPerPop', 'larcenies', 'larcPerPop', 'autoTheft',\\\n",
    "                                     'autoTheftPerPop', 'arsons', 'arsonsPerPop', 'violentPerPop', 'nonViolPerPop'])\n",
    "df.head()"
   ]
  },
  {
   "cell_type": "markdown",
   "metadata": {},
   "source": [
    "# 2. Pre-processing of data"
   ]
  },
  {
   "cell_type": "markdown",
   "metadata": {},
   "source": [
    "## 2.1 Separate categorical and numerical columns"
   ]
  },
  {
   "cell_type": "code",
   "execution_count": 5,
   "metadata": {
    "collapsed": false
   },
   "outputs": [
    {
     "data": {
      "text/html": [
       "<div>\n",
       "<table border=\"1\" class=\"dataframe\">\n",
       "  <thead>\n",
       "    <tr style=\"text-align: right;\">\n",
       "      <th></th>\n",
       "      <th>communityname</th>\n",
       "      <th>State</th>\n",
       "    </tr>\n",
       "  </thead>\n",
       "  <tbody>\n",
       "    <tr>\n",
       "      <th>0</th>\n",
       "      <td>BerkeleyHeightstownship</td>\n",
       "      <td>NJ</td>\n",
       "    </tr>\n",
       "    <tr>\n",
       "      <th>1</th>\n",
       "      <td>Marpletownship</td>\n",
       "      <td>PA</td>\n",
       "    </tr>\n",
       "    <tr>\n",
       "      <th>2</th>\n",
       "      <td>Tigardcity</td>\n",
       "      <td>OR</td>\n",
       "    </tr>\n",
       "    <tr>\n",
       "      <th>3</th>\n",
       "      <td>Gloversvillecity</td>\n",
       "      <td>NY</td>\n",
       "    </tr>\n",
       "    <tr>\n",
       "      <th>4</th>\n",
       "      <td>Bemidjicity</td>\n",
       "      <td>MN</td>\n",
       "    </tr>\n",
       "  </tbody>\n",
       "</table>\n",
       "</div>"
      ],
      "text/plain": [
       "             communityname State\n",
       "0  BerkeleyHeightstownship    NJ\n",
       "1           Marpletownship    PA\n",
       "2               Tigardcity    OR\n",
       "3         Gloversvillecity    NY\n",
       "4              Bemidjicity    MN"
      ]
     },
     "execution_count": 5,
     "metadata": {},
     "output_type": "execute_result"
    }
   ],
   "source": [
    "text = df[['communityname', 'State']]\n",
    "text.head()"
   ]
  },
  {
   "cell_type": "code",
   "execution_count": 6,
   "metadata": {
    "collapsed": false
   },
   "outputs": [
    {
     "data": {
      "text/html": [
       "<div>\n",
       "<table border=\"1\" class=\"dataframe\">\n",
       "  <thead>\n",
       "    <tr style=\"text-align: right;\">\n",
       "      <th></th>\n",
       "      <th>countyCode</th>\n",
       "      <th>communityCode</th>\n",
       "      <th>fold</th>\n",
       "      <th>pop</th>\n",
       "      <th>perHoush</th>\n",
       "      <th>pctBlack</th>\n",
       "      <th>pctWhite</th>\n",
       "      <th>pctAsian</th>\n",
       "      <th>pctHisp</th>\n",
       "      <th>pct12</th>\n",
       "      <th>...</th>\n",
       "      <th>burglaries</th>\n",
       "      <th>burglPerPop</th>\n",
       "      <th>larcenies</th>\n",
       "      <th>larcPerPop</th>\n",
       "      <th>autoTheft</th>\n",
       "      <th>autoTheftPerPop</th>\n",
       "      <th>arsons</th>\n",
       "      <th>arsonsPerPop</th>\n",
       "      <th>violentPerPop</th>\n",
       "      <th>nonViolPerPop</th>\n",
       "    </tr>\n",
       "  </thead>\n",
       "  <tbody>\n",
       "    <tr>\n",
       "      <th>0</th>\n",
       "      <td>39</td>\n",
       "      <td>5320</td>\n",
       "      <td>1</td>\n",
       "      <td>11980</td>\n",
       "      <td>3.10</td>\n",
       "      <td>1.37</td>\n",
       "      <td>91.78</td>\n",
       "      <td>6.50</td>\n",
       "      <td>1.88</td>\n",
       "      <td>95.81</td>\n",
       "      <td>...</td>\n",
       "      <td>14</td>\n",
       "      <td>114.85</td>\n",
       "      <td>138</td>\n",
       "      <td>1132.08</td>\n",
       "      <td>16</td>\n",
       "      <td>131.26</td>\n",
       "      <td>2</td>\n",
       "      <td>16.41</td>\n",
       "      <td>41.02</td>\n",
       "      <td>1394.59</td>\n",
       "    </tr>\n",
       "    <tr>\n",
       "      <th>1</th>\n",
       "      <td>45</td>\n",
       "      <td>47616</td>\n",
       "      <td>1</td>\n",
       "      <td>23123</td>\n",
       "      <td>2.82</td>\n",
       "      <td>0.80</td>\n",
       "      <td>95.57</td>\n",
       "      <td>3.44</td>\n",
       "      <td>0.85</td>\n",
       "      <td>86.46</td>\n",
       "      <td>...</td>\n",
       "      <td>57</td>\n",
       "      <td>242.37</td>\n",
       "      <td>376</td>\n",
       "      <td>1598.78</td>\n",
       "      <td>26</td>\n",
       "      <td>110.55</td>\n",
       "      <td>1</td>\n",
       "      <td>4.25</td>\n",
       "      <td>127.56</td>\n",
       "      <td>1955.95</td>\n",
       "    </tr>\n",
       "    <tr>\n",
       "      <th>2</th>\n",
       "      <td>NaN</td>\n",
       "      <td>NaN</td>\n",
       "      <td>1</td>\n",
       "      <td>29344</td>\n",
       "      <td>2.43</td>\n",
       "      <td>0.74</td>\n",
       "      <td>94.33</td>\n",
       "      <td>3.43</td>\n",
       "      <td>2.35</td>\n",
       "      <td>75.72</td>\n",
       "      <td>...</td>\n",
       "      <td>274</td>\n",
       "      <td>758.14</td>\n",
       "      <td>1797</td>\n",
       "      <td>4972.19</td>\n",
       "      <td>136</td>\n",
       "      <td>376.30</td>\n",
       "      <td>22</td>\n",
       "      <td>60.87</td>\n",
       "      <td>218.59</td>\n",
       "      <td>6167.51</td>\n",
       "    </tr>\n",
       "    <tr>\n",
       "      <th>3</th>\n",
       "      <td>35</td>\n",
       "      <td>29443</td>\n",
       "      <td>1</td>\n",
       "      <td>16656</td>\n",
       "      <td>2.40</td>\n",
       "      <td>1.70</td>\n",
       "      <td>97.35</td>\n",
       "      <td>0.50</td>\n",
       "      <td>0.70</td>\n",
       "      <td>67.43</td>\n",
       "      <td>...</td>\n",
       "      <td>225</td>\n",
       "      <td>1301.78</td>\n",
       "      <td>716</td>\n",
       "      <td>4142.56</td>\n",
       "      <td>47</td>\n",
       "      <td>271.93</td>\n",
       "      <td>NaN</td>\n",
       "      <td>NaN</td>\n",
       "      <td>306.64</td>\n",
       "      <td>NaN</td>\n",
       "    </tr>\n",
       "    <tr>\n",
       "      <th>4</th>\n",
       "      <td>7</td>\n",
       "      <td>5068</td>\n",
       "      <td>1</td>\n",
       "      <td>11245</td>\n",
       "      <td>2.76</td>\n",
       "      <td>0.53</td>\n",
       "      <td>89.16</td>\n",
       "      <td>1.17</td>\n",
       "      <td>0.52</td>\n",
       "      <td>79.17</td>\n",
       "      <td>...</td>\n",
       "      <td>91</td>\n",
       "      <td>728.93</td>\n",
       "      <td>1060</td>\n",
       "      <td>8490.87</td>\n",
       "      <td>91</td>\n",
       "      <td>728.93</td>\n",
       "      <td>5</td>\n",
       "      <td>40.05</td>\n",
       "      <td>NaN</td>\n",
       "      <td>9988.79</td>\n",
       "    </tr>\n",
       "  </tbody>\n",
       "</table>\n",
       "<p>5 rows × 145 columns</p>\n",
       "</div>"
      ],
      "text/plain": [
       "   countyCode  communityCode  fold    pop  perHoush  pctBlack  pctWhite  \\\n",
       "0          39           5320     1  11980      3.10      1.37     91.78   \n",
       "1          45          47616     1  23123      2.82      0.80     95.57   \n",
       "2         NaN            NaN     1  29344      2.43      0.74     94.33   \n",
       "3          35          29443     1  16656      2.40      1.70     97.35   \n",
       "4           7           5068     1  11245      2.76      0.53     89.16   \n",
       "\n",
       "   pctAsian  pctHisp  pct12      ...        burglaries  burglPerPop  \\\n",
       "0      6.50     1.88  95.81      ...                14       114.85   \n",
       "1      3.44     0.85  86.46      ...                57       242.37   \n",
       "2      3.43     2.35  75.72      ...               274       758.14   \n",
       "3      0.50     0.70  67.43      ...               225      1301.78   \n",
       "4      1.17     0.52  79.17      ...                91       728.93   \n",
       "\n",
       "   larcenies  larcPerPop  autoTheft  autoTheftPerPop  arsons  arsonsPerPop  \\\n",
       "0        138     1132.08         16           131.26       2         16.41   \n",
       "1        376     1598.78         26           110.55       1          4.25   \n",
       "2       1797     4972.19        136           376.30      22         60.87   \n",
       "3        716     4142.56         47           271.93     NaN           NaN   \n",
       "4       1060     8490.87         91           728.93       5         40.05   \n",
       "\n",
       "   violentPerPop  nonViolPerPop  \n",
       "0          41.02        1394.59  \n",
       "1         127.56        1955.95  \n",
       "2         218.59        6167.51  \n",
       "3         306.64            NaN  \n",
       "4            NaN        9988.79  \n",
       "\n",
       "[5 rows x 145 columns]"
      ]
     },
     "execution_count": 6,
     "metadata": {},
     "output_type": "execute_result"
    }
   ],
   "source": [
    "number = df.drop(['communityname', 'State'],1)\n",
    "number = number.replace({'?': np.nan})\n",
    "number = number.astype(float)\n",
    "number_columns = number.columns\n",
    "number.head()"
   ]
  },
  {
   "cell_type": "markdown",
   "metadata": {},
   "source": [
    "## 2.2 Imputation of missing values"
   ]
  },
  {
   "cell_type": "code",
   "execution_count": 7,
   "metadata": {
    "collapsed": false
   },
   "outputs": [
    {
     "data": {
      "text/plain": [
       "Imputer(axis=0, copy=True, missing_values='NaN', strategy='mean', verbose=0)"
      ]
     },
     "execution_count": 7,
     "metadata": {},
     "output_type": "execute_result"
    }
   ],
   "source": [
    "imp = Imputer(missing_values='NaN', strategy='mean', axis=0)\n",
    "imp.fit(number)"
   ]
  },
  {
   "cell_type": "markdown",
   "metadata": {},
   "source": [
    "- In sklearn package, the Imputer class provides basic strategies for imputing missing values, either using the mean, the median or the most frequent value of the row or column in which the missing values are located. This class also allows for different missing values encodings.\n",
    "\n",
    "- The following step is to impute missing values using the mean value of the columns (axis 0) that contain the missing values:"
   ]
  },
  {
   "cell_type": "code",
   "execution_count": 8,
   "metadata": {
    "collapsed": false
   },
   "outputs": [
    {
     "data": {
      "text/html": [
       "<div>\n",
       "<table border=\"1\" class=\"dataframe\">\n",
       "  <thead>\n",
       "    <tr style=\"text-align: right;\">\n",
       "      <th></th>\n",
       "      <th>countyCode</th>\n",
       "      <th>communityCode</th>\n",
       "      <th>fold</th>\n",
       "      <th>pop</th>\n",
       "      <th>perHoush</th>\n",
       "      <th>pctBlack</th>\n",
       "      <th>pctWhite</th>\n",
       "      <th>pctAsian</th>\n",
       "      <th>pctHisp</th>\n",
       "      <th>pct12</th>\n",
       "      <th>...</th>\n",
       "      <th>burglaries</th>\n",
       "      <th>burglPerPop</th>\n",
       "      <th>larcenies</th>\n",
       "      <th>larcPerPop</th>\n",
       "      <th>autoTheft</th>\n",
       "      <th>autoTheftPerPop</th>\n",
       "      <th>arsons</th>\n",
       "      <th>arsonsPerPop</th>\n",
       "      <th>violentPerPop</th>\n",
       "      <th>nonViolPerPop</th>\n",
       "    </tr>\n",
       "  </thead>\n",
       "  <tbody>\n",
       "    <tr>\n",
       "      <th>0</th>\n",
       "      <td>39.000000</td>\n",
       "      <td>5320.000000</td>\n",
       "      <td>1</td>\n",
       "      <td>11980</td>\n",
       "      <td>3.10</td>\n",
       "      <td>1.37</td>\n",
       "      <td>91.78</td>\n",
       "      <td>6.50</td>\n",
       "      <td>1.88</td>\n",
       "      <td>95.81</td>\n",
       "      <td>...</td>\n",
       "      <td>14</td>\n",
       "      <td>114.85</td>\n",
       "      <td>138</td>\n",
       "      <td>1132.08</td>\n",
       "      <td>16</td>\n",
       "      <td>131.26</td>\n",
       "      <td>2.000000</td>\n",
       "      <td>16.410000</td>\n",
       "      <td>41.020000</td>\n",
       "      <td>1394.590000</td>\n",
       "    </tr>\n",
       "    <tr>\n",
       "      <th>1</th>\n",
       "      <td>45.000000</td>\n",
       "      <td>47616.000000</td>\n",
       "      <td>1</td>\n",
       "      <td>23123</td>\n",
       "      <td>2.82</td>\n",
       "      <td>0.80</td>\n",
       "      <td>95.57</td>\n",
       "      <td>3.44</td>\n",
       "      <td>0.85</td>\n",
       "      <td>86.46</td>\n",
       "      <td>...</td>\n",
       "      <td>57</td>\n",
       "      <td>242.37</td>\n",
       "      <td>376</td>\n",
       "      <td>1598.78</td>\n",
       "      <td>26</td>\n",
       "      <td>110.55</td>\n",
       "      <td>1.000000</td>\n",
       "      <td>4.250000</td>\n",
       "      <td>127.560000</td>\n",
       "      <td>1955.950000</td>\n",
       "    </tr>\n",
       "    <tr>\n",
       "      <th>2</th>\n",
       "      <td>65.587525</td>\n",
       "      <td>45209.251261</td>\n",
       "      <td>1</td>\n",
       "      <td>29344</td>\n",
       "      <td>2.43</td>\n",
       "      <td>0.74</td>\n",
       "      <td>94.33</td>\n",
       "      <td>3.43</td>\n",
       "      <td>2.35</td>\n",
       "      <td>75.72</td>\n",
       "      <td>...</td>\n",
       "      <td>274</td>\n",
       "      <td>758.14</td>\n",
       "      <td>1797</td>\n",
       "      <td>4972.19</td>\n",
       "      <td>136</td>\n",
       "      <td>376.30</td>\n",
       "      <td>22.000000</td>\n",
       "      <td>60.870000</td>\n",
       "      <td>218.590000</td>\n",
       "      <td>6167.510000</td>\n",
       "    </tr>\n",
       "    <tr>\n",
       "      <th>3</th>\n",
       "      <td>35.000000</td>\n",
       "      <td>29443.000000</td>\n",
       "      <td>1</td>\n",
       "      <td>16656</td>\n",
       "      <td>2.40</td>\n",
       "      <td>1.70</td>\n",
       "      <td>97.35</td>\n",
       "      <td>0.50</td>\n",
       "      <td>0.70</td>\n",
       "      <td>67.43</td>\n",
       "      <td>...</td>\n",
       "      <td>225</td>\n",
       "      <td>1301.78</td>\n",
       "      <td>716</td>\n",
       "      <td>4142.56</td>\n",
       "      <td>47</td>\n",
       "      <td>271.93</td>\n",
       "      <td>30.907721</td>\n",
       "      <td>32.153682</td>\n",
       "      <td>306.640000</td>\n",
       "      <td>4908.241804</td>\n",
       "    </tr>\n",
       "    <tr>\n",
       "      <th>4</th>\n",
       "      <td>7.000000</td>\n",
       "      <td>5068.000000</td>\n",
       "      <td>1</td>\n",
       "      <td>11245</td>\n",
       "      <td>2.76</td>\n",
       "      <td>0.53</td>\n",
       "      <td>89.16</td>\n",
       "      <td>1.17</td>\n",
       "      <td>0.52</td>\n",
       "      <td>79.17</td>\n",
       "      <td>...</td>\n",
       "      <td>91</td>\n",
       "      <td>728.93</td>\n",
       "      <td>1060</td>\n",
       "      <td>8490.87</td>\n",
       "      <td>91</td>\n",
       "      <td>728.93</td>\n",
       "      <td>5.000000</td>\n",
       "      <td>40.050000</td>\n",
       "      <td>589.078922</td>\n",
       "      <td>9988.790000</td>\n",
       "    </tr>\n",
       "  </tbody>\n",
       "</table>\n",
       "<p>5 rows × 145 columns</p>\n",
       "</div>"
      ],
      "text/plain": [
       "   countyCode  communityCode  fold    pop  perHoush  pctBlack  pctWhite  \\\n",
       "0   39.000000    5320.000000     1  11980      3.10      1.37     91.78   \n",
       "1   45.000000   47616.000000     1  23123      2.82      0.80     95.57   \n",
       "2   65.587525   45209.251261     1  29344      2.43      0.74     94.33   \n",
       "3   35.000000   29443.000000     1  16656      2.40      1.70     97.35   \n",
       "4    7.000000    5068.000000     1  11245      2.76      0.53     89.16   \n",
       "\n",
       "   pctAsian  pctHisp  pct12      ...        burglaries  burglPerPop  \\\n",
       "0      6.50     1.88  95.81      ...                14       114.85   \n",
       "1      3.44     0.85  86.46      ...                57       242.37   \n",
       "2      3.43     2.35  75.72      ...               274       758.14   \n",
       "3      0.50     0.70  67.43      ...               225      1301.78   \n",
       "4      1.17     0.52  79.17      ...                91       728.93   \n",
       "\n",
       "   larcenies  larcPerPop  autoTheft  autoTheftPerPop     arsons  arsonsPerPop  \\\n",
       "0        138     1132.08         16           131.26   2.000000     16.410000   \n",
       "1        376     1598.78         26           110.55   1.000000      4.250000   \n",
       "2       1797     4972.19        136           376.30  22.000000     60.870000   \n",
       "3        716     4142.56         47           271.93  30.907721     32.153682   \n",
       "4       1060     8490.87         91           728.93   5.000000     40.050000   \n",
       "\n",
       "   violentPerPop  nonViolPerPop  \n",
       "0      41.020000    1394.590000  \n",
       "1     127.560000    1955.950000  \n",
       "2     218.590000    6167.510000  \n",
       "3     306.640000    4908.241804  \n",
       "4     589.078922    9988.790000  \n",
       "\n",
       "[5 rows x 145 columns]"
      ]
     },
     "execution_count": 8,
     "metadata": {},
     "output_type": "execute_result"
    }
   ],
   "source": [
    "transformed = pd.DataFrame(imp.transform(number))\n",
    "transformed.columns = number_columns\n",
    "transformed.head()"
   ]
  },
  {
   "cell_type": "markdown",
   "metadata": {},
   "source": [
    "# 3. Principal Component Analysis (PCA)"
   ]
  },
  {
   "cell_type": "markdown",
   "metadata": {},
   "source": [
    "## 3.1 Drop target columns"
   ]
  },
  {
   "cell_type": "code",
   "execution_count": 9,
   "metadata": {
    "collapsed": false
   },
   "outputs": [
    {
     "data": {
      "text/html": [
       "<div>\n",
       "<table border=\"1\" class=\"dataframe\">\n",
       "  <thead>\n",
       "    <tr style=\"text-align: right;\">\n",
       "      <th></th>\n",
       "      <th>countyCode</th>\n",
       "      <th>communityCode</th>\n",
       "      <th>fold</th>\n",
       "      <th>pop</th>\n",
       "      <th>perHoush</th>\n",
       "      <th>pctBlack</th>\n",
       "      <th>pctWhite</th>\n",
       "      <th>pctAsian</th>\n",
       "      <th>pctHisp</th>\n",
       "      <th>pct12</th>\n",
       "      <th>...</th>\n",
       "      <th>assaults</th>\n",
       "      <th>assaultPerPop</th>\n",
       "      <th>burglaries</th>\n",
       "      <th>burglPerPop</th>\n",
       "      <th>larcenies</th>\n",
       "      <th>larcPerPop</th>\n",
       "      <th>autoTheft</th>\n",
       "      <th>autoTheftPerPop</th>\n",
       "      <th>arsons</th>\n",
       "      <th>arsonsPerPop</th>\n",
       "    </tr>\n",
       "  </thead>\n",
       "  <tbody>\n",
       "    <tr>\n",
       "      <th>0</th>\n",
       "      <td>39.000000</td>\n",
       "      <td>5320.000000</td>\n",
       "      <td>1</td>\n",
       "      <td>11980</td>\n",
       "      <td>3.10</td>\n",
       "      <td>1.37</td>\n",
       "      <td>91.78</td>\n",
       "      <td>6.50</td>\n",
       "      <td>1.88</td>\n",
       "      <td>95.81</td>\n",
       "      <td>...</td>\n",
       "      <td>4</td>\n",
       "      <td>32.81</td>\n",
       "      <td>14</td>\n",
       "      <td>114.85</td>\n",
       "      <td>138</td>\n",
       "      <td>1132.08</td>\n",
       "      <td>16</td>\n",
       "      <td>131.26</td>\n",
       "      <td>2.000000</td>\n",
       "      <td>16.410000</td>\n",
       "    </tr>\n",
       "    <tr>\n",
       "      <th>1</th>\n",
       "      <td>45.000000</td>\n",
       "      <td>47616.000000</td>\n",
       "      <td>1</td>\n",
       "      <td>23123</td>\n",
       "      <td>2.82</td>\n",
       "      <td>0.80</td>\n",
       "      <td>95.57</td>\n",
       "      <td>3.44</td>\n",
       "      <td>0.85</td>\n",
       "      <td>86.46</td>\n",
       "      <td>...</td>\n",
       "      <td>24</td>\n",
       "      <td>102.05</td>\n",
       "      <td>57</td>\n",
       "      <td>242.37</td>\n",
       "      <td>376</td>\n",
       "      <td>1598.78</td>\n",
       "      <td>26</td>\n",
       "      <td>110.55</td>\n",
       "      <td>1.000000</td>\n",
       "      <td>4.250000</td>\n",
       "    </tr>\n",
       "    <tr>\n",
       "      <th>2</th>\n",
       "      <td>65.587525</td>\n",
       "      <td>45209.251261</td>\n",
       "      <td>1</td>\n",
       "      <td>29344</td>\n",
       "      <td>2.43</td>\n",
       "      <td>0.74</td>\n",
       "      <td>94.33</td>\n",
       "      <td>3.43</td>\n",
       "      <td>2.35</td>\n",
       "      <td>75.72</td>\n",
       "      <td>...</td>\n",
       "      <td>14</td>\n",
       "      <td>38.74</td>\n",
       "      <td>274</td>\n",
       "      <td>758.14</td>\n",
       "      <td>1797</td>\n",
       "      <td>4972.19</td>\n",
       "      <td>136</td>\n",
       "      <td>376.30</td>\n",
       "      <td>22.000000</td>\n",
       "      <td>60.870000</td>\n",
       "    </tr>\n",
       "    <tr>\n",
       "      <th>3</th>\n",
       "      <td>35.000000</td>\n",
       "      <td>29443.000000</td>\n",
       "      <td>1</td>\n",
       "      <td>16656</td>\n",
       "      <td>2.40</td>\n",
       "      <td>1.70</td>\n",
       "      <td>97.35</td>\n",
       "      <td>0.50</td>\n",
       "      <td>0.70</td>\n",
       "      <td>67.43</td>\n",
       "      <td>...</td>\n",
       "      <td>33</td>\n",
       "      <td>190.93</td>\n",
       "      <td>225</td>\n",
       "      <td>1301.78</td>\n",
       "      <td>716</td>\n",
       "      <td>4142.56</td>\n",
       "      <td>47</td>\n",
       "      <td>271.93</td>\n",
       "      <td>30.907721</td>\n",
       "      <td>32.153682</td>\n",
       "    </tr>\n",
       "    <tr>\n",
       "      <th>4</th>\n",
       "      <td>7.000000</td>\n",
       "      <td>5068.000000</td>\n",
       "      <td>1</td>\n",
       "      <td>11245</td>\n",
       "      <td>2.76</td>\n",
       "      <td>0.53</td>\n",
       "      <td>89.16</td>\n",
       "      <td>1.17</td>\n",
       "      <td>0.52</td>\n",
       "      <td>79.17</td>\n",
       "      <td>...</td>\n",
       "      <td>14</td>\n",
       "      <td>112.14</td>\n",
       "      <td>91</td>\n",
       "      <td>728.93</td>\n",
       "      <td>1060</td>\n",
       "      <td>8490.87</td>\n",
       "      <td>91</td>\n",
       "      <td>728.93</td>\n",
       "      <td>5.000000</td>\n",
       "      <td>40.050000</td>\n",
       "    </tr>\n",
       "  </tbody>\n",
       "</table>\n",
       "<p>5 rows × 143 columns</p>\n",
       "</div>"
      ],
      "text/plain": [
       "   countyCode  communityCode  fold    pop  perHoush  pctBlack  pctWhite  \\\n",
       "0   39.000000    5320.000000     1  11980      3.10      1.37     91.78   \n",
       "1   45.000000   47616.000000     1  23123      2.82      0.80     95.57   \n",
       "2   65.587525   45209.251261     1  29344      2.43      0.74     94.33   \n",
       "3   35.000000   29443.000000     1  16656      2.40      1.70     97.35   \n",
       "4    7.000000    5068.000000     1  11245      2.76      0.53     89.16   \n",
       "\n",
       "   pctAsian  pctHisp  pct12      ...       assaults  assaultPerPop  \\\n",
       "0      6.50     1.88  95.81      ...              4          32.81   \n",
       "1      3.44     0.85  86.46      ...             24         102.05   \n",
       "2      3.43     2.35  75.72      ...             14          38.74   \n",
       "3      0.50     0.70  67.43      ...             33         190.93   \n",
       "4      1.17     0.52  79.17      ...             14         112.14   \n",
       "\n",
       "   burglaries  burglPerPop  larcenies  larcPerPop  autoTheft  autoTheftPerPop  \\\n",
       "0          14       114.85        138     1132.08         16           131.26   \n",
       "1          57       242.37        376     1598.78         26           110.55   \n",
       "2         274       758.14       1797     4972.19        136           376.30   \n",
       "3         225      1301.78        716     4142.56         47           271.93   \n",
       "4          91       728.93       1060     8490.87         91           728.93   \n",
       "\n",
       "      arsons  arsonsPerPop  \n",
       "0   2.000000     16.410000  \n",
       "1   1.000000      4.250000  \n",
       "2  22.000000     60.870000  \n",
       "3  30.907721     32.153682  \n",
       "4   5.000000     40.050000  \n",
       "\n",
       "[5 rows x 143 columns]"
      ]
     },
     "execution_count": 9,
     "metadata": {},
     "output_type": "execute_result"
    }
   ],
   "source": [
    "violent = transformed['violentPerPop']\n",
    "non_violent = transformed['nonViolPerPop']\n",
    "features = transformed.drop(['violentPerPop','nonViolPerPop'],1)\n",
    "features.head()"
   ]
  },
  {
   "cell_type": "markdown",
   "metadata": {},
   "source": [
    "## 3.2 Variables standardization"
   ]
  },
  {
   "cell_type": "markdown",
   "metadata": {},
   "source": [
    "- Standardization of datasets is a common requirement for many machine learning estimators implemented in the scikit; they might behave badly if the individual features do not more or less look like standard normally distributed data: Gaussian with zero mean and unit variance.\n",
    "- In PCA, the results depend on the scaling of your data"
   ]
  },
  {
   "cell_type": "code",
   "execution_count": 10,
   "metadata": {
    "collapsed": false
   },
   "outputs": [
    {
     "data": {
      "text/html": [
       "<div>\n",
       "<table border=\"1\" class=\"dataframe\">\n",
       "  <thead>\n",
       "    <tr style=\"text-align: right;\">\n",
       "      <th></th>\n",
       "      <th>countyCode</th>\n",
       "      <th>communityCode</th>\n",
       "      <th>fold</th>\n",
       "      <th>pop</th>\n",
       "      <th>perHoush</th>\n",
       "      <th>pctBlack</th>\n",
       "      <th>pctWhite</th>\n",
       "      <th>pctAsian</th>\n",
       "      <th>pctHisp</th>\n",
       "      <th>pct12</th>\n",
       "      <th>...</th>\n",
       "      <th>assaults</th>\n",
       "      <th>assaultPerPop</th>\n",
       "      <th>burglaries</th>\n",
       "      <th>burglPerPop</th>\n",
       "      <th>larcenies</th>\n",
       "      <th>larcPerPop</th>\n",
       "      <th>autoTheft</th>\n",
       "      <th>autoTheftPerPop</th>\n",
       "      <th>arsons</th>\n",
       "      <th>arsonsPerPop</th>\n",
       "    </tr>\n",
       "  </thead>\n",
       "  <tbody>\n",
       "    <tr>\n",
       "      <th>0</th>\n",
       "      <td>-3.369994e-01</td>\n",
       "      <td>-2.346656e+00</td>\n",
       "      <td>-1.564737</td>\n",
       "      <td>-0.201091</td>\n",
       "      <td>1.175511</td>\n",
       "      <td>-0.559192</td>\n",
       "      <td>0.475175</td>\n",
       "      <td>0.856235</td>\n",
       "      <td>-0.416149</td>\n",
       "      <td>1.957769</td>\n",
       "      <td>...</td>\n",
       "      <td>-0.162757</td>\n",
       "      <td>-0.790188</td>\n",
       "      <td>-0.240355</td>\n",
       "      <td>-1.204435</td>\n",
       "      <td>-0.263327</td>\n",
       "      <td>-1.179670</td>\n",
       "      <td>-0.153812</td>\n",
       "      <td>-0.679688</td>\n",
       "      <td>-0.163927</td>\n",
       "      <td>-4.098068e-01</td>\n",
       "    </tr>\n",
       "    <tr>\n",
       "      <th>1</th>\n",
       "      <td>-2.609488e-01</td>\n",
       "      <td>1.415873e-01</td>\n",
       "      <td>-1.564737</td>\n",
       "      <td>-0.146622</td>\n",
       "      <td>0.337299</td>\n",
       "      <td>-0.599209</td>\n",
       "      <td>0.706056</td>\n",
       "      <td>0.172105</td>\n",
       "      <td>-0.486762</td>\n",
       "      <td>1.055514</td>\n",
       "      <td>...</td>\n",
       "      <td>-0.152664</td>\n",
       "      <td>-0.631690</td>\n",
       "      <td>-0.226523</td>\n",
       "      <td>-1.037232</td>\n",
       "      <td>-0.231985</td>\n",
       "      <td>-0.933986</td>\n",
       "      <td>-0.150740</td>\n",
       "      <td>-0.720762</td>\n",
       "      <td>-0.169598</td>\n",
       "      <td>-7.263307e-01</td>\n",
       "    </tr>\n",
       "    <tr>\n",
       "      <th>2</th>\n",
       "      <td>1.801239e-16</td>\n",
       "      <td>4.280394e-16</td>\n",
       "      <td>-1.564737</td>\n",
       "      <td>-0.116212</td>\n",
       "      <td>-0.830211</td>\n",
       "      <td>-0.603422</td>\n",
       "      <td>0.630518</td>\n",
       "      <td>0.169869</td>\n",
       "      <td>-0.383928</td>\n",
       "      <td>0.019127</td>\n",
       "      <td>...</td>\n",
       "      <td>-0.157711</td>\n",
       "      <td>-0.776613</td>\n",
       "      <td>-0.156724</td>\n",
       "      <td>-0.360958</td>\n",
       "      <td>-0.044857</td>\n",
       "      <td>0.841868</td>\n",
       "      <td>-0.116948</td>\n",
       "      <td>-0.193700</td>\n",
       "      <td>-0.050513</td>\n",
       "      <td>7.474836e-01</td>\n",
       "    </tr>\n",
       "    <tr>\n",
       "      <th>3</th>\n",
       "      <td>-3.876998e-01</td>\n",
       "      <td>-9.275173e-01</td>\n",
       "      <td>-1.564737</td>\n",
       "      <td>-0.178234</td>\n",
       "      <td>-0.920020</td>\n",
       "      <td>-0.536025</td>\n",
       "      <td>0.814491</td>\n",
       "      <td>-0.485197</td>\n",
       "      <td>-0.497046</td>\n",
       "      <td>-0.780840</td>\n",
       "      <td>...</td>\n",
       "      <td>-0.148123</td>\n",
       "      <td>-0.428234</td>\n",
       "      <td>-0.172485</td>\n",
       "      <td>0.351858</td>\n",
       "      <td>-0.187211</td>\n",
       "      <td>0.405128</td>\n",
       "      <td>-0.144289</td>\n",
       "      <td>-0.400697</td>\n",
       "      <td>0.000000</td>\n",
       "      <td>1.849537e-16</td>\n",
       "    </tr>\n",
       "    <tr>\n",
       "      <th>4</th>\n",
       "      <td>-7.426024e-01</td>\n",
       "      <td>-2.361481e+00</td>\n",
       "      <td>-1.564737</td>\n",
       "      <td>-0.204684</td>\n",
       "      <td>0.157682</td>\n",
       "      <td>-0.618165</td>\n",
       "      <td>0.315569</td>\n",
       "      <td>-0.335403</td>\n",
       "      <td>-0.509386</td>\n",
       "      <td>0.352045</td>\n",
       "      <td>...</td>\n",
       "      <td>-0.157711</td>\n",
       "      <td>-0.608593</td>\n",
       "      <td>-0.215587</td>\n",
       "      <td>-0.399258</td>\n",
       "      <td>-0.141911</td>\n",
       "      <td>2.694196</td>\n",
       "      <td>-0.130772</td>\n",
       "      <td>0.505671</td>\n",
       "      <td>-0.146915</td>\n",
       "      <td>2.055406e-01</td>\n",
       "    </tr>\n",
       "  </tbody>\n",
       "</table>\n",
       "<p>5 rows × 143 columns</p>\n",
       "</div>"
      ],
      "text/plain": [
       "     countyCode  communityCode      fold       pop  perHoush  pctBlack  \\\n",
       "0 -3.369994e-01  -2.346656e+00 -1.564737 -0.201091  1.175511 -0.559192   \n",
       "1 -2.609488e-01   1.415873e-01 -1.564737 -0.146622  0.337299 -0.599209   \n",
       "2  1.801239e-16   4.280394e-16 -1.564737 -0.116212 -0.830211 -0.603422   \n",
       "3 -3.876998e-01  -9.275173e-01 -1.564737 -0.178234 -0.920020 -0.536025   \n",
       "4 -7.426024e-01  -2.361481e+00 -1.564737 -0.204684  0.157682 -0.618165   \n",
       "\n",
       "   pctWhite  pctAsian   pctHisp     pct12      ...       assaults  \\\n",
       "0  0.475175  0.856235 -0.416149  1.957769      ...      -0.162757   \n",
       "1  0.706056  0.172105 -0.486762  1.055514      ...      -0.152664   \n",
       "2  0.630518  0.169869 -0.383928  0.019127      ...      -0.157711   \n",
       "3  0.814491 -0.485197 -0.497046 -0.780840      ...      -0.148123   \n",
       "4  0.315569 -0.335403 -0.509386  0.352045      ...      -0.157711   \n",
       "\n",
       "   assaultPerPop  burglaries  burglPerPop  larcenies  larcPerPop  autoTheft  \\\n",
       "0      -0.790188   -0.240355    -1.204435  -0.263327   -1.179670  -0.153812   \n",
       "1      -0.631690   -0.226523    -1.037232  -0.231985   -0.933986  -0.150740   \n",
       "2      -0.776613   -0.156724    -0.360958  -0.044857    0.841868  -0.116948   \n",
       "3      -0.428234   -0.172485     0.351858  -0.187211    0.405128  -0.144289   \n",
       "4      -0.608593   -0.215587    -0.399258  -0.141911    2.694196  -0.130772   \n",
       "\n",
       "   autoTheftPerPop    arsons  arsonsPerPop  \n",
       "0        -0.679688 -0.163927 -4.098068e-01  \n",
       "1        -0.720762 -0.169598 -7.263307e-01  \n",
       "2        -0.193700 -0.050513  7.474836e-01  \n",
       "3        -0.400697  0.000000  1.849537e-16  \n",
       "4         0.505671 -0.146915  2.055406e-01  \n",
       "\n",
       "[5 rows x 143 columns]"
      ]
     },
     "execution_count": 10,
     "metadata": {},
     "output_type": "execute_result"
    }
   ],
   "source": [
    "features = pd.DataFrame(scale(features))\n",
    "features.columns = number_columns[:-2]\n",
    "features.head()"
   ]
  },
  {
   "cell_type": "markdown",
   "metadata": {},
   "source": [
    "## 3.3 Dimension Reduction\n",
    "PCA transformation on 0-to-1 standardized data"
   ]
  },
  {
   "cell_type": "code",
   "execution_count": 11,
   "metadata": {
    "collapsed": false
   },
   "outputs": [
    {
     "data": {
      "text/plain": [
       "PCA(copy=True, n_components=None, whiten=False)"
      ]
     },
     "execution_count": 11,
     "metadata": {},
     "output_type": "execute_result"
    }
   ],
   "source": [
    "pca = decomposition.PCA()\n",
    "pca.fit(features)"
   ]
  },
  {
   "cell_type": "markdown",
   "metadata": {},
   "source": [
    "- PCA is linear dimensionality reduction using Singular Value Decomposition of the data and keeping only the most significant singular vectors to project the data to a lower dimensional space.\n",
    "- Based on the plot of explained variance ratio, we found that 10 variables is probably a good size to explain the data."
   ]
  },
  {
   "cell_type": "code",
   "execution_count": 12,
   "metadata": {
    "collapsed": false
   },
   "outputs": [
    {
     "data": {
      "text/plain": [
       "[<matplotlib.lines.Line2D at 0x10a020510>]"
      ]
     },
     "execution_count": 12,
     "metadata": {},
     "output_type": "execute_result"
    },
    {
     "data": {
      "image/png": "[encoded data removed]",
      "text/plain": [
       "<matplotlib.figure.Figure at 0x1087dce50>"
      ]
     },
     "metadata": {},
     "output_type": "display_data"
    }
   ],
   "source": [
    "plt.plot(pca.explained_variance_ratio_)"
   ]
  },
  {
   "cell_type": "code",
   "execution_count": 123,
   "metadata": {
    "collapsed": false
   },
   "outputs": [
    {
     "data": {
      "text/html": [
       "<div>\n",
       "<table border=\"1\" class=\"dataframe\">\n",
       "  <thead>\n",
       "    <tr style=\"text-align: right;\">\n",
       "      <th></th>\n",
       "      <th>0</th>\n",
       "      <th>1</th>\n",
       "      <th>2</th>\n",
       "      <th>3</th>\n",
       "      <th>4</th>\n",
       "      <th>5</th>\n",
       "      <th>6</th>\n",
       "      <th>7</th>\n",
       "      <th>8</th>\n",
       "      <th>9</th>\n",
       "    </tr>\n",
       "  </thead>\n",
       "  <tbody>\n",
       "    <tr>\n",
       "      <th>0</th>\n",
       "      <td>-10.276373</td>\n",
       "      <td>5.392830</td>\n",
       "      <td>-1.673907</td>\n",
       "      <td>0.996379</td>\n",
       "      <td>-2.777605</td>\n",
       "      <td>-1.522864</td>\n",
       "      <td>0.435526</td>\n",
       "      <td>2.770973</td>\n",
       "      <td>-0.336714</td>\n",
       "      <td>-0.901242</td>\n",
       "    </tr>\n",
       "    <tr>\n",
       "      <th>1</th>\n",
       "      <td>-6.506566</td>\n",
       "      <td>1.354808</td>\n",
       "      <td>1.429044</td>\n",
       "      <td>1.749654</td>\n",
       "      <td>-2.449612</td>\n",
       "      <td>0.738503</td>\n",
       "      <td>-0.648338</td>\n",
       "      <td>1.886793</td>\n",
       "      <td>0.179910</td>\n",
       "      <td>0.649991</td>\n",
       "    </tr>\n",
       "    <tr>\n",
       "      <th>2</th>\n",
       "      <td>-2.416704</td>\n",
       "      <td>0.107430</td>\n",
       "      <td>1.065563</td>\n",
       "      <td>-2.196734</td>\n",
       "      <td>2.752983</td>\n",
       "      <td>0.017122</td>\n",
       "      <td>0.206933</td>\n",
       "      <td>-2.360425</td>\n",
       "      <td>-0.716183</td>\n",
       "      <td>1.141555</td>\n",
       "    </tr>\n",
       "    <tr>\n",
       "      <th>3</th>\n",
       "      <td>3.586097</td>\n",
       "      <td>-4.598756</td>\n",
       "      <td>3.368021</td>\n",
       "      <td>1.300073</td>\n",
       "      <td>-2.582749</td>\n",
       "      <td>1.731661</td>\n",
       "      <td>-0.428487</td>\n",
       "      <td>0.361708</td>\n",
       "      <td>1.340581</td>\n",
       "      <td>0.474312</td>\n",
       "    </tr>\n",
       "    <tr>\n",
       "      <th>4</th>\n",
       "      <td>4.121607</td>\n",
       "      <td>-2.877136</td>\n",
       "      <td>0.192498</td>\n",
       "      <td>-2.386028</td>\n",
       "      <td>3.752377</td>\n",
       "      <td>0.891107</td>\n",
       "      <td>-2.234091</td>\n",
       "      <td>4.642691</td>\n",
       "      <td>0.624352</td>\n",
       "      <td>0.001474</td>\n",
       "    </tr>\n",
       "  </tbody>\n",
       "</table>\n",
       "</div>"
      ],
      "text/plain": [
       "           0         1         2         3         4         5         6  \\\n",
       "0 -10.276373  5.392830 -1.673907  0.996379 -2.777605 -1.522864  0.435526   \n",
       "1  -6.506566  1.354808  1.429044  1.749654 -2.449612  0.738503 -0.648338   \n",
       "2  -2.416704  0.107430  1.065563 -2.196734  2.752983  0.017122  0.206933   \n",
       "3   3.586097 -4.598756  3.368021  1.300073 -2.582749  1.731661 -0.428487   \n",
       "4   4.121607 -2.877136  0.192498 -2.386028  3.752377  0.891107 -2.234091   \n",
       "\n",
       "          7         8         9  \n",
       "0  2.770973 -0.336714 -0.901242  \n",
       "1  1.886793  0.179910  0.649991  \n",
       "2 -2.360425 -0.716183  1.141555  \n",
       "3  0.361708  1.340581  0.474312  \n",
       "4  4.642691  0.624352  0.001474  "
      ]
     },
     "execution_count": 123,
     "metadata": {},
     "output_type": "execute_result"
    }
   ],
   "source": [
    "pca = decomposition.PCA(n_components=10)\n",
    "pca.fit(features)\n",
    "pca_predictors = pd.DataFrame(pca.fit_transform(features))\n",
    "pca_predictors.head()"
   ]
  },
  {
   "cell_type": "markdown",
   "metadata": {},
   "source": [
    "# 4. Classification Modeling"
   ]
  },
  {
   "cell_type": "markdown",
   "metadata": {},
   "source": [
    "## 4.1 Prepare variables"
   ]
  },
  {
   "cell_type": "markdown",
   "metadata": {},
   "source": [
    "- base predictors: columns regarding population; ethnicity; age; income; and, education\n",
    "- PCA transformed predictors"
   ]
  },
  {
   "cell_type": "code",
   "execution_count": 124,
   "metadata": {
    "collapsed": false
   },
   "outputs": [],
   "source": [
    "base = number[['pop','pctBlack','pctWhite','pctAsian','pctHisp','pct12',\\\n",
    "               'pct12','pct16','pct65up','perCapInc','pctLowEdu','pctNotHSgrad','pctCollGrad']]"
   ]
  },
  {
   "cell_type": "code",
   "execution_count": 125,
   "metadata": {
    "collapsed": false
   },
   "outputs": [
    {
     "data": {
      "text/html": [
       "<div>\n",
       "<table border=\"1\" class=\"dataframe\">\n",
       "  <thead>\n",
       "    <tr style=\"text-align: right;\">\n",
       "      <th></th>\n",
       "      <th>pop</th>\n",
       "      <th>pctBlack</th>\n",
       "      <th>pctWhite</th>\n",
       "      <th>pctAsian</th>\n",
       "      <th>pctHisp</th>\n",
       "      <th>pct12</th>\n",
       "      <th>pct12</th>\n",
       "      <th>pct12</th>\n",
       "      <th>pct12</th>\n",
       "      <th>pct12</th>\n",
       "      <th>...</th>\n",
       "      <th>0</th>\n",
       "      <th>1</th>\n",
       "      <th>2</th>\n",
       "      <th>3</th>\n",
       "      <th>4</th>\n",
       "      <th>5</th>\n",
       "      <th>6</th>\n",
       "      <th>7</th>\n",
       "      <th>8</th>\n",
       "      <th>9</th>\n",
       "    </tr>\n",
       "  </thead>\n",
       "  <tbody>\n",
       "    <tr>\n",
       "      <th>0</th>\n",
       "      <td>11980</td>\n",
       "      <td>1.37</td>\n",
       "      <td>91.78</td>\n",
       "      <td>6.50</td>\n",
       "      <td>1.88</td>\n",
       "      <td>95.81</td>\n",
       "      <td>95.81</td>\n",
       "      <td>95.81</td>\n",
       "      <td>95.81</td>\n",
       "      <td>95.81</td>\n",
       "      <td>...</td>\n",
       "      <td>-10.276373</td>\n",
       "      <td>5.392830</td>\n",
       "      <td>-1.673907</td>\n",
       "      <td>0.996379</td>\n",
       "      <td>-2.777605</td>\n",
       "      <td>-1.522864</td>\n",
       "      <td>0.435526</td>\n",
       "      <td>2.770973</td>\n",
       "      <td>-0.336714</td>\n",
       "      <td>-0.901242</td>\n",
       "    </tr>\n",
       "    <tr>\n",
       "      <th>1</th>\n",
       "      <td>23123</td>\n",
       "      <td>0.80</td>\n",
       "      <td>95.57</td>\n",
       "      <td>3.44</td>\n",
       "      <td>0.85</td>\n",
       "      <td>86.46</td>\n",
       "      <td>86.46</td>\n",
       "      <td>86.46</td>\n",
       "      <td>86.46</td>\n",
       "      <td>86.46</td>\n",
       "      <td>...</td>\n",
       "      <td>-6.506566</td>\n",
       "      <td>1.354808</td>\n",
       "      <td>1.429044</td>\n",
       "      <td>1.749654</td>\n",
       "      <td>-2.449612</td>\n",
       "      <td>0.738503</td>\n",
       "      <td>-0.648338</td>\n",
       "      <td>1.886793</td>\n",
       "      <td>0.179910</td>\n",
       "      <td>0.649991</td>\n",
       "    </tr>\n",
       "    <tr>\n",
       "      <th>2</th>\n",
       "      <td>29344</td>\n",
       "      <td>0.74</td>\n",
       "      <td>94.33</td>\n",
       "      <td>3.43</td>\n",
       "      <td>2.35</td>\n",
       "      <td>75.72</td>\n",
       "      <td>75.72</td>\n",
       "      <td>75.72</td>\n",
       "      <td>75.72</td>\n",
       "      <td>75.72</td>\n",
       "      <td>...</td>\n",
       "      <td>-2.416704</td>\n",
       "      <td>0.107430</td>\n",
       "      <td>1.065563</td>\n",
       "      <td>-2.196734</td>\n",
       "      <td>2.752983</td>\n",
       "      <td>0.017122</td>\n",
       "      <td>0.206933</td>\n",
       "      <td>-2.360425</td>\n",
       "      <td>-0.716183</td>\n",
       "      <td>1.141555</td>\n",
       "    </tr>\n",
       "    <tr>\n",
       "      <th>3</th>\n",
       "      <td>16656</td>\n",
       "      <td>1.70</td>\n",
       "      <td>97.35</td>\n",
       "      <td>0.50</td>\n",
       "      <td>0.70</td>\n",
       "      <td>67.43</td>\n",
       "      <td>67.43</td>\n",
       "      <td>67.43</td>\n",
       "      <td>67.43</td>\n",
       "      <td>67.43</td>\n",
       "      <td>...</td>\n",
       "      <td>3.586097</td>\n",
       "      <td>-4.598756</td>\n",
       "      <td>3.368021</td>\n",
       "      <td>1.300073</td>\n",
       "      <td>-2.582749</td>\n",
       "      <td>1.731661</td>\n",
       "      <td>-0.428487</td>\n",
       "      <td>0.361708</td>\n",
       "      <td>1.340581</td>\n",
       "      <td>0.474312</td>\n",
       "    </tr>\n",
       "    <tr>\n",
       "      <th>4</th>\n",
       "      <td>11245</td>\n",
       "      <td>0.53</td>\n",
       "      <td>89.16</td>\n",
       "      <td>1.17</td>\n",
       "      <td>0.52</td>\n",
       "      <td>79.17</td>\n",
       "      <td>79.17</td>\n",
       "      <td>79.17</td>\n",
       "      <td>79.17</td>\n",
       "      <td>79.17</td>\n",
       "      <td>...</td>\n",
       "      <td>4.121607</td>\n",
       "      <td>-2.877136</td>\n",
       "      <td>0.192498</td>\n",
       "      <td>-2.386028</td>\n",
       "      <td>3.752377</td>\n",
       "      <td>0.891107</td>\n",
       "      <td>-2.234091</td>\n",
       "      <td>4.642691</td>\n",
       "      <td>0.624352</td>\n",
       "      <td>0.001474</td>\n",
       "    </tr>\n",
       "  </tbody>\n",
       "</table>\n",
       "<p>5 rows × 27 columns</p>\n",
       "</div>"
      ],
      "text/plain": [
       "     pop  pctBlack  pctWhite  pctAsian  pctHisp  pct12  pct12  pct12  pct12  \\\n",
       "0  11980      1.37     91.78      6.50     1.88  95.81  95.81  95.81  95.81   \n",
       "1  23123      0.80     95.57      3.44     0.85  86.46  86.46  86.46  86.46   \n",
       "2  29344      0.74     94.33      3.43     2.35  75.72  75.72  75.72  75.72   \n",
       "3  16656      1.70     97.35      0.50     0.70  67.43  67.43  67.43  67.43   \n",
       "4  11245      0.53     89.16      1.17     0.52  79.17  79.17  79.17  79.17   \n",
       "\n",
       "   pct12    ...             0         1         2         3         4  \\\n",
       "0  95.81    ...    -10.276373  5.392830 -1.673907  0.996379 -2.777605   \n",
       "1  86.46    ...     -6.506566  1.354808  1.429044  1.749654 -2.449612   \n",
       "2  75.72    ...     -2.416704  0.107430  1.065563 -2.196734  2.752983   \n",
       "3  67.43    ...      3.586097 -4.598756  3.368021  1.300073 -2.582749   \n",
       "4  79.17    ...      4.121607 -2.877136  0.192498 -2.386028  3.752377   \n",
       "\n",
       "          5         6         7         8         9  \n",
       "0 -1.522864  0.435526  2.770973 -0.336714 -0.901242  \n",
       "1  0.738503 -0.648338  1.886793  0.179910  0.649991  \n",
       "2  0.017122  0.206933 -2.360425 -0.716183  1.141555  \n",
       "3  1.731661 -0.428487  0.361708  1.340581  0.474312  \n",
       "4  0.891107 -2.234091  4.642691  0.624352  0.001474  \n",
       "\n",
       "[5 rows x 27 columns]"
      ]
     },
     "execution_count": 125,
     "metadata": {},
     "output_type": "execute_result"
    }
   ],
   "source": [
    "predictors = pd.concat([base, pca_predictors], axis=1)\n",
    "predictors.head()"
   ]
  },
  {
   "cell_type": "markdown",
   "metadata": {},
   "source": [
    "## 4.2 prepare training and testing data"
   ]
  },
  {
   "cell_type": "code",
   "execution_count": 126,
   "metadata": {
    "collapsed": false
   },
   "outputs": [
    {
     "name": "stdout",
     "output_type": "stream",
     "text": [
      "The average of ViolentCrimesPerPop is 589.078921765\n",
      "The average of NonViolentCrimesPerPop is 4908.24180359\n"
     ]
    }
   ],
   "source": [
    "average_violent = sum(violent)/len(violent)\n",
    "print 'The average of ViolentCrimesPerPop is', average_violent\n",
    "\n",
    "average_nonviolent = sum(non_violent)/len(non_violent)\n",
    "print 'The average of NonViolentCrimesPerPop is', average_nonviolent"
   ]
  },
  {
   "cell_type": "code",
   "execution_count": 127,
   "metadata": {
    "collapsed": false
   },
   "outputs": [
    {
     "name": "stdout",
     "output_type": "stream",
     "text": [
      "Based on the average ViolentCrimesPerPop, target is divided to two categories in format [0, 0, 0, 0, 0, 0, 0, 0, 0, 1, 1, 1, 1, 1, 0]\n",
      "Based on the average ViolentCrimesPerPop, target is divided to two categories in format [0, 0, 1, 1, 1, 1, 0, 1, 0, 1, 1, 1, 1, 1, 0]\n"
     ]
    }
   ],
   "source": [
    "target_violent = []\n",
    "for i in violent:\n",
    "    [target_violent.append(1) if i > average_violent else target_violent.append(0)]\n",
    "print 'Based on the average ViolentCrimesPerPop, target is divided to two categories in format', target_violent[:15]\n",
    "\n",
    "target_nonviolent = []\n",
    "for i in non_violent:\n",
    "    [target_nonviolent.append(1) if i > average_nonviolent else target_nonviolent.append(0)]\n",
    "print 'Based on the average ViolentCrimesPerPop, target is divided to two categories in format', target_nonviolent[:15]"
   ]
  },
  {
   "cell_type": "code",
   "execution_count": 128,
   "metadata": {
    "collapsed": false
   },
   "outputs": [
    {
     "name": "stdout",
     "output_type": "stream",
     "text": [
      "The shape of predictors is (2215, 27)\n"
     ]
    }
   ],
   "source": [
    "print 'The shape of predictors is', predictors.shape"
   ]
  },
  {
   "cell_type": "code",
   "execution_count": 129,
   "metadata": {
    "collapsed": false
   },
   "outputs": [
    {
     "name": "stdout",
     "output_type": "stream",
     "text": [
      "Training and testing data are cut at the first three-fourths position, which is 1661\n"
     ]
    }
   ],
   "source": [
    "offset = 2215*3/4\n",
    "print 'Training and testing data are cut at the first three-fourths position, which is', offset"
   ]
  },
  {
   "cell_type": "code",
   "execution_count": 130,
   "metadata": {
    "collapsed": false
   },
   "outputs": [],
   "source": [
    "training_x = predictors[:offset]\n",
    "testing_x = predictors[offset:]\n",
    "training_violent_y = target_violent[:offset]\n",
    "testing_violent_y = target_violent[offset:]\n",
    "training_nonviolent_y = target_nonviolent[:offset]\n",
    "testing_nonviolent_y = target_nonviolent[offset:]"
   ]
  },
  {
   "cell_type": "markdown",
   "metadata": {},
   "source": [
    "## 4.3 Training and testing"
   ]
  },
  {
   "cell_type": "markdown",
   "metadata": {},
   "source": [
    "### 4.3.1 ViolentCrimesPerPop"
   ]
  },
  {
   "cell_type": "code",
   "execution_count": 145,
   "metadata": {
    "collapsed": true
   },
   "outputs": [],
   "source": [
    "clf = tree.DecisionTreeClassifier()\n",
    "clf = clf.fit(training_x, training_violent_y)\n",
    "predict_y = clf.predict(testing_x)"
   ]
  },
  {
   "cell_type": "code",
   "execution_count": 146,
   "metadata": {
    "collapsed": false
   },
   "outputs": [
    {
     "name": "stdout",
     "output_type": "stream",
     "text": [
      "Number of false predictions: 109 \n",
      "Number of true predictions: 445 \n"
     ]
    },
    {
     "data": {
      "text/plain": [
       "('The accuracy of this one fold varified tree is:', 0.8032490974729242)"
      ]
     },
     "execution_count": 146,
     "metadata": {},
     "output_type": "execute_result"
    }
   ],
   "source": [
    "true = 0\n",
    "false = 0\n",
    "for i in range(len(predict_y)):\n",
    "    if predict_y[i] == testing_violent_y[i]:\n",
    "        true += 1\n",
    "    else:\n",
    "        false += 1\n",
    "print 'Number of false predictions:',false,'\\n','Number of true predictions:',true,'\\n',\n",
    "'The accuracy of this one fold varified tree is:',true*1.0/(true+false)"
   ]
  },
  {
   "cell_type": "markdown",
   "metadata": {},
   "source": [
    "### 4.3.2 nonViolPerPop"
   ]
  },
  {
   "cell_type": "code",
   "execution_count": 72,
   "metadata": {
    "collapsed": false
   },
   "outputs": [],
   "source": [
    "clf2 = tree.DecisionTreeClassifier()\n",
    "clf2 = clf2.fit(training_x, training_nonviolent_y)\n",
    "predict_y = clf2.predict(testing_x)"
   ]
  },
  {
   "cell_type": "code",
   "execution_count": 73,
   "metadata": {
    "collapsed": false
   },
   "outputs": [
    {
     "name": "stdout",
     "output_type": "stream",
     "text": [
      "Number of false predictions: 138 \n",
      "Number of true predictions: 416 \n"
     ]
    },
    {
     "data": {
      "text/plain": [
       "('The accuracy of this one fold varified tree is:', 0.7509025270758123)"
      ]
     },
     "execution_count": 73,
     "metadata": {},
     "output_type": "execute_result"
    }
   ],
   "source": [
    "true = 0\n",
    "false = 0\n",
    "for i in range(len(predict_y)):\n",
    "    if predict_y[i] == testing_nonviolent_y[i]:\n",
    "        true += 1\n",
    "    else:\n",
    "        false += 1\n",
    "print 'Number of false predictions:',false,'\\n','Number of true predictions:',true,'\\n',\n",
    "'The accuracy of this one fold varified tree is:',true*1.0/(true+false)"
   ]
  },
  {
   "cell_type": "markdown",
   "metadata": {},
   "source": [
    "## 4.4 Feature importances"
   ]
  },
  {
   "cell_type": "code",
   "execution_count": 85,
   "metadata": {
    "collapsed": false
   },
   "outputs": [],
   "source": [
    "importance = {}\n",
    "for i in range(27):\n",
    "    importance[predictors.columns[i]] = clf.feature_importances_[i]\n",
    "sorted_importance = sorted(importance.items(), key=operator.itemgetter(1), reverse = True)"
   ]
  },
  {
   "cell_type": "markdown",
   "metadata": {},
   "source": [
    "So the importance level for the selected features are listed in order below:"
   ]
  },
  {
   "cell_type": "markdown",
   "metadata": {},
   "source": [
    "### 4.4.1 ViolentCrimesPerPop"
   ]
  },
  {
   "cell_type": "code",
   "execution_count": 86,
   "metadata": {
    "collapsed": false
   },
   "outputs": [
    {
     "name": "stdout",
     "output_type": "stream",
     "text": [
      "0 \t\t0.427282424631\n",
      "pctWhite \t\t0.102831070003\n",
      "3 \t\t0.0568909449496\n",
      "pctLowEdu \t\t0.0425798646963\n",
      "4 \t\t0.0354841108243\n",
      "pctCollGrad \t\t0.0338381634103\n",
      "5 \t\t0.0320730690656\n",
      "8 \t\t0.0309771157415\n",
      "pct16 \t\t0.027883244464\n",
      "1 \t\t0.0264615956966\n",
      "6 \t\t0.0253847825563\n",
      "2 \t\t0.0246461845009\n",
      "pctBlack \t\t0.021232910345\n",
      "perCapInc \t\t0.0211839116314\n",
      "9 \t\t0.0211012446209\n",
      "pop \t\t0.0129225640965\n",
      "pctHisp \t\t0.0114726352948\n",
      "pctAsian \t\t0.00926505452034\n",
      "7 \t\t0.00885719740887\n",
      "pctNotHSgrad \t\t0.00506042449477\n",
      "pct65up \t\t0.00415738578022\n",
      "pct12 \t\t0.00374846258872\n"
     ]
    }
   ],
   "source": [
    "for x,y in sorted_importance:\n",
    "    print x,'\\t\\t',y"
   ]
  },
  {
   "cell_type": "markdown",
   "metadata": {},
   "source": [
    "### 4.4.1 ViolentCrimesPerPop"
   ]
  },
  {
   "cell_type": "code",
   "execution_count": 78,
   "metadata": {
    "collapsed": true
   },
   "outputs": [],
   "source": [
    "importance = {}\n",
    "for i in range(27):\n",
    "    importance[predictors.columns[i]] = clf2.feature_importances_[i]\n",
    "sorted_importance = sorted(importance.items(), key=operator.itemgetter(1), reverse = True)"
   ]
  },
  {
   "cell_type": "code",
   "execution_count": 79,
   "metadata": {
    "collapsed": false
   },
   "outputs": [
    {
     "name": "stdout",
     "output_type": "stream",
     "text": [
      "0 \t\t0.384199655772\n",
      "6 \t\t0.0813506924903\n",
      "3 \t\t0.0583838999127\n",
      "pctWhite \t\t0.0503327885928\n",
      "pctNotHSgrad \t\t0.0437165150972\n",
      "pctCollGrad \t\t0.040994796232\n",
      "8 \t\t0.0383638158723\n",
      "2 \t\t0.0336344207445\n",
      "perCapInc \t\t0.0309292801092\n",
      "pop \t\t0.0301830532743\n",
      "4 \t\t0.0255026971743\n",
      "pctLowEdu \t\t0.0236322754687\n",
      "pctAsian \t\t0.0225192094662\n",
      "7 \t\t0.0223460119517\n",
      "5 \t\t0.0215274155666\n",
      "pctHisp \t\t0.018248395687\n",
      "pct16 \t\t0.0164615261117\n",
      "pct65up \t\t0.0108316785841\n",
      "1 \t\t0.0105213948169\n",
      "pct12 \t\t0.00942356036819\n",
      "9 \t\t0.00717390664116\n",
      "pctBlack \t\t0.00358183916816\n"
     ]
    }
   ],
   "source": [
    "for x,y in sorted_importance:\n",
    "    print x,'\\t\\t',y"
   ]
  },
  {
   "cell_type": "markdown",
   "metadata": {},
   "source": [
    "# 5. Conclusion\n",
    "Predictor 0, which results from the PCA transformed data, is the most important variable for both Crime and Non Crime classification analysis. Aside from that, pctWhite and pctCollGrad appear to be two important variables to the model."
   ]
  }
 ],
 "metadata": {
  "kernelspec": {
   "display_name": "Python 2",
   "language": "python",
   "name": "python2"
  },
  "language_info": {
   "codemirror_mode": {
    "name": "ipython",
    "version": 2
   },
   "file_extension": ".py",
   "mimetype": "text/x-python",
   "name": "python",
   "nbconvert_exporter": "python",
   "pygments_lexer": "ipython2",
   "version": "2.7.11"
  }
 },
 "nbformat": 4,
 "nbformat_minor": 0
}
